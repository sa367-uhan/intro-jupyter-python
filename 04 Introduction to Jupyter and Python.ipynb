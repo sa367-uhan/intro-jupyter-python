{
 "cells": [
  {
   "cell_type": "markdown",
   "metadata": {
    "hide_cell": true
   },
   "source": [
    "<span class='note'>*Make me look good.* Click on the cell below and press <kbd>Ctrl</kbd>-<kbd>Enter</kbd>.</span>"
   ]
  },
  {
   "cell_type": "code",
   "execution_count": null,
   "metadata": {
    "collapsed": false,
    "hide_cell": true
   },
   "outputs": [],
   "source": [
    "from IPython.core.display import HTML\n",
    "def css_styling():\n",
    "    styles = open('css/custom.css', 'r').read()\n",
    "    return HTML(styles)\n",
    "css_styling()"
   ]
  },
  {
   "cell_type": "markdown",
   "metadata": {
    "hide_cell": true
   },
   "source": [
    "<h5 class='prehead'>SA367 &middot; Mathematical Models for Decision Making &middot; Spring 2017 &middot; Uhan</h5>\n",
    "\n",
    "<h5 class='lesson'>Lesson 4.</h5>\n",
    "\n",
    "<h1 class='lesson_title'>An introduction to Jupyter and Python</h1>"
   ]
  },
  {
   "cell_type": "markdown",
   "metadata": {},
   "source": [
    "## What is Jupyter?"
   ]
  },
  {
   "cell_type": "markdown",
   "metadata": {},
   "source": [
    "* **Jupyter** is an interactive computational environment where you can combine code, text and graphs.\n",
    "\n",
    "* Until recently, Jupyter was called **IPython Notebook**. This historical tidbit might help if you're looking for other references.\n",
    "\n",
    "* We'll be using Jupyter with the **Python** programming langugage in this course to\n",
    "    * collect and set up data for various models from large-scale real-world sources, and\n",
    "    * solve these models and interpret their output."
   ]
  },
  {
   "cell_type": "markdown",
   "metadata": {},
   "source": [
    "## Structure of a notebook document"
   ]
  },
  {
   "cell_type": "markdown",
   "metadata": {},
   "source": [
    "* A notebook consists of a sequence of **cells** of different types.\n",
    "\n",
    "* We'll use these types of cells frequently:\n",
    "    * code cells\n",
    "    * Markdown cells\n",
    "    \n",
    "* You can determine the type of a cell in the toolbar.\n",
    "\n",
    "* You can execute the contents of a cell by:\n",
    "    * clicking the <i class=\"fa fa-step-forward\" aria-hidden=\"true\"></i> button in the tool bar,\n",
    "    * selecting **Cell &#8594; Run** in the menu bar,\n",
    "    * pressing <kbd>Shift</kbd>-<kbd>Enter</kbd>"
   ]
  },
  {
   "cell_type": "markdown",
   "metadata": {},
   "source": [
    "### Code cells"
   ]
  },
  {
   "cell_type": "markdown",
   "metadata": {},
   "source": [
    "* In a **code cell**, you can edit and write Python code\n",
    "    * We'll talk about Python shortly\n",
    "    \n",
    "* For now, we can use a code cell as a fancy calculator\n",
    "\n",
    "* For example, in the code cell below, let's compute\n",
    "$$ \\frac{2^{5} - 368}{23 + 18} $$"
   ]
  },
  {
   "cell_type": "code",
   "execution_count": null,
   "metadata": {
    "collapsed": false
   },
   "outputs": [],
   "source": [
    "(2**5 - 368) / (23 + 18)"
   ]
  },
  {
   "cell_type": "markdown",
   "metadata": {},
   "source": [
    "* Note that a code cell has \n",
    "    * an **input** section containing your code, \n",
    "    * an **output** section after executing the cell."
   ]
  },
  {
   "cell_type": "markdown",
   "metadata": {},
   "source": [
    "### Markdown cells"
   ]
  },
  {
   "cell_type": "markdown",
   "metadata": {},
   "source": [
    "* In a **Markdown cell**, you can enter text to document your workflow.\n",
    "\n",
    "* For example, this cell is a Markdown cell.\n",
    "\n",
    "* The **Markdown** language is a popular way to provide formatting (e.g. bold, italics, lists) to plain text. Use Google to find documentation and tutorials. [Here's a pretty good cheat sheet.](https://github.com/adam-p/markdown-here/wiki/Markdown-Cheatsheet)\n",
    "\n",
    "* For now, here are a few basic, useful Markdown constructs:\n",
    "\n",
    "```\n",
    "You can format text as italic with *asterisks* or _underscores_.\n",
    "\n",
    "You can format text as bold with **double asterisks** or __double underscores__.\n",
    "\n",
    "To write an unordered list, use *, -, or + as bullets, like this:\n",
    "\n",
    "* One\n",
    "* Two\n",
    "* Three\n",
    "```\n",
    "\n",
    "* To edit a Markdown cell, double-click it. Try it in the cell below:"
   ]
  },
  {
   "cell_type": "markdown",
   "metadata": {},
   "source": [
    "*Double-click to edit this cell. Try out Markdown here.*"
   ]
  },
  {
   "cell_type": "markdown",
   "metadata": {},
   "source": [
    "## Manipulating cells"
   ]
  },
  {
   "cell_type": "markdown",
   "metadata": {},
   "source": [
    "* You can insert a new cell by selecting **Insert &#8594; Insert Cell Above/Below** in the menu bar.\n",
    "\n",
    "* You can copy and paste cells using the **Edit** menu.\n",
    "\n",
    "* You can also split, merge, and delete cells using the **Edit** menu."
   ]
  },
  {
   "cell_type": "markdown",
   "metadata": {},
   "source": [
    "## Moving on..."
   ]
  },
  {
   "cell_type": "markdown",
   "metadata": {},
   "source": [
    "* We'll go over some other features of Jupyter later.\n",
    "\n",
    "* The official documentation is [here](http://jupyter-notebook.readthedocs.io/en/latest/).\n",
    "\n",
    "* There are many resources out there on using Jupyter &mdash; Google is your friend!"
   ]
  },
  {
   "cell_type": "markdown",
   "metadata": {},
   "source": [
    "## What is Python &mdash; and why?"
   ]
  },
  {
   "cell_type": "markdown",
   "metadata": {},
   "source": [
    "![https://xkcd.com/353/](img/python.png)\n",
    "\n",
    "<div class=\"cite\">From [xkcd](https://xkcd.com/353/)</div>"
   ]
  },
  {
   "cell_type": "markdown",
   "metadata": {},
   "source": [
    "* **Python** is a <span class=\"myred\">free</span>, open-source, general-purpose programming language.\n",
    "\n",
    "* Python is popular and used everywhere - just a few examples:\n",
    "    - [YouTube](http://www.slideshare.net/didip/super-sizing-youtube-with-python)\n",
    "    - [Industrial Light and Magic](https://www.python.org/about/success/ilm/)\n",
    "    - [AstraZenica](https://www.python.org/about/success/astra/)\n",
    "\n",
    "* Python is \"beautiful\": its syntax was designed with an emphasis on readability.\n",
    "\n",
    "* Python has <span class=\"myred\">awesome</span> scientific computing tools: [NumPy](http://www.numpy.org), [SciPy](http://www.scipy.org/scipylib/index.html), [Matplotlib](http://matplotlib.org).\n",
    "\n",
    "* \"It's good for you\": having exposure to multiple programming languages will be very useful to you as an economist/data scientist/operations analyst/quantitative person."
   ]
  },
  {
   "cell_type": "markdown",
   "metadata": {},
   "source": [
    "## A survival course in Python"
   ]
  },
  {
   "cell_type": "markdown",
   "metadata": {},
   "source": [
    "* Today, we will learn a few basic Python constructs that will be useful in this course.\n",
    "    - We're going to assume a familiarity with basic computer programming concepts (e.g. for loops, if-then-else statements).\n",
    "    - We will cover other concepts throughout the semester as needed.\n",
    "    \n",
    "* There is a wealth of information on Python on the web! Here are two examples:\n",
    "    - [Here](https://docs.python.org/3.5/) is the documentation for Python 3.5, which is the version we will use in this class.\n",
    "    - [Chris Albon's notes on data science, machine learning, and artificial intelligence](https://chrisalbon.com) are a great resource for Python recipes."
   ]
  },
  {
   "cell_type": "markdown",
   "metadata": {},
   "source": [
    "## Fancy calculator"
   ]
  },
  {
   "cell_type": "markdown",
   "metadata": {},
   "source": [
    "* You can define a variable using the **`=`** sign.\n",
    "\n",
    "* You can perform arithmetic operations on variables.\n",
    "\n",
    "* You can print the value of a variable by using the __`print()`__ function.\n",
    "\n",
    "* Don't forget to execute the cell when you're done!"
   ]
  },
  {
   "cell_type": "code",
   "execution_count": null,
   "metadata": {
    "collapsed": false
   },
   "outputs": [],
   "source": [
    "# This is what a comment looks like in Python\n",
    "# Define dimensions of a rectangle\n",
    "length = 30\n",
    "width = 40\n",
    "\n",
    "# Compute area\n",
    "area = length * width\n",
    "\n",
    "# Print area\n",
    "print(area)"
   ]
  },
  {
   "cell_type": "markdown",
   "metadata": {},
   "source": [
    "* If you try to access a variable you haven't yet defined, Python will complain."
   ]
  },
  {
   "cell_type": "code",
   "execution_count": null,
   "metadata": {
    "collapsed": false
   },
   "outputs": [],
   "source": [
    "print(volume)"
   ]
  },
  {
   "cell_type": "markdown",
   "metadata": {},
   "source": [
    "* Let's define the height of a box, so we can compute volume."
   ]
  },
  {
   "cell_type": "code",
   "execution_count": null,
   "metadata": {
    "collapsed": false
   },
   "outputs": [],
   "source": [
    "# Define height of box\n",
    "height = 10\n",
    "\n",
    "# Compute volume\n",
    "volume = length * width * height\n",
    "\n",
    "# Print volume\n",
    "print(volume)"
   ]
  },
  {
   "cell_type": "markdown",
   "metadata": {},
   "source": [
    "* Note that the **prompt numbers** next to the code cells (e.g. `In [3]` and `Out [3]`) indicate which cells have been run and <span class=\"rred\">in which order</span>. \n",
    "\n",
    "* This is very useful, especially if you are running cells out-of-sequence."
   ]
  },
  {
   "cell_type": "markdown",
   "metadata": {},
   "source": [
    "## Hello, world!"
   ]
  },
  {
   "cell_type": "markdown",
   "metadata": {},
   "source": [
    "* __Strings__ are lists of printable characters defined using either double quotes or single quotes.\n",
    "\n",
    "* To print a string, you can use the **`print`** function."
   ]
  },
  {
   "cell_type": "code",
   "execution_count": null,
   "metadata": {
    "collapsed": false
   },
   "outputs": [],
   "source": [
    "# Print \"Hello, world!\"\n",
    "print(\"Hello, world!\")"
   ]
  },
  {
   "cell_type": "markdown",
   "metadata": {},
   "source": [
    "* You can use the __`.format()`__ method to insert the value of a variable into a string."
   ]
  },
  {
   "cell_type": "code",
   "execution_count": null,
   "metadata": {
    "collapsed": false
   },
   "outputs": [],
   "source": [
    "# Define a variable for your neighbor's name\n",
    "neighbor = \"Nelson\"\n",
    "\n",
    "# Print the value of the 'name' variable\n",
    "print(\"My neighbor is {0}.\".format(neighbor))"
   ]
  },
  {
   "cell_type": "markdown",
   "metadata": {},
   "source": [
    "* The brackets and characters in them (e.g. `{0}`) are placeholders that are replaced with the arguments passed into the **`.format()`** method.\n",
    "\n",
    "* In particular,\n",
    "    * `{0}` is replaced with the first argument passed into `.format()`,\n",
    "    * `{1}` is replaced with the second argument,\n",
    "    * `{2}` is replaced with the third argument,\n",
    "    * And so on.\n",
    "    \n",
    "* **In Python, indexing starts at 0!**"
   ]
  },
  {
   "cell_type": "markdown",
   "metadata": {},
   "source": [
    "**Example.** Define three variables, `left`, `right`, `me`, containing the names of yourself and your neighbors. Use the `print` statement to print the values of these variables in one line."
   ]
  },
  {
   "cell_type": "code",
   "execution_count": null,
   "metadata": {
    "collapsed": false
   },
   "outputs": [],
   "source": [
    "# Define variables\n",
    "left = \"Alice\"\n",
    "right = \"Carol\"\n",
    "me = \"Nelson\"\n",
    "\n",
    "# Print values of variables\n",
    "print(\"I'm {0}, my neighbor to the left is {1}, and my neighbor to the right is {2}.\".format(me, left, right))"
   ]
  },
  {
   "cell_type": "markdown",
   "metadata": {},
   "source": [
    "## Lists"
   ]
  },
  {
   "cell_type": "markdown",
   "metadata": {},
   "source": [
    "* A **list** is a collection of items that are organized in a particular order.\n",
    "\n",
    "* You can think of a list as an array or a vector.\n",
    "\n",
    "* A list is written as a sequence of comma-separated items between square brackets."
   ]
  },
  {
   "cell_type": "code",
   "execution_count": null,
   "metadata": {
    "collapsed": false
   },
   "outputs": [],
   "source": [
    "# Define a list containing the first 5 square numbers\n",
    "squares = [1, 4, 9, 16, 25]\n",
    "\n",
    "# Define a list containing the days of the week\n",
    "days_of_the_week = [\"Sun\", \"Mon\", \"Tue\", \"Wed\", \"Thu\", \"Fri\", \"Sat\"]"
   ]
  },
  {
   "cell_type": "markdown",
   "metadata": {},
   "source": [
    "* To get the first item in `days_of_the_week`, we would write\n",
    "\n",
    "```python\n",
    "days_of_the_week[0]\n",
    "```\n",
    "\n",
    "* Remember, in Python, __indexing starts at 0!__"
   ]
  },
  {
   "cell_type": "code",
   "execution_count": null,
   "metadata": {
    "collapsed": false,
    "scrolled": true
   },
   "outputs": [],
   "source": [
    "# The third day of the week is...\n",
    "days_of_the_week[2]"
   ]
  },
  {
   "cell_type": "markdown",
   "metadata": {},
   "source": [
    "* You can add items to the end of a list using the **`.append()`** method.\n",
    "\n",
    "* You can also print lists just like any other variable."
   ]
  },
  {
   "cell_type": "code",
   "execution_count": null,
   "metadata": {
    "collapsed": false
   },
   "outputs": [],
   "source": [
    "# Let's add the 6th squared number\n",
    "squares.append(36)\n",
    "\n",
    "# What does the list look like now?\n",
    "print(\"squares = {0}\".format(squares))"
   ]
  },
  {
   "cell_type": "markdown",
   "metadata": {},
   "source": [
    "* We can determine the length of a list using the `len()` function."
   ]
  },
  {
   "cell_type": "code",
   "execution_count": null,
   "metadata": {
    "collapsed": false
   },
   "outputs": [],
   "source": [
    "# How many days of the week are there?\n",
    "len(days_of_the_week)"
   ]
  },
  {
   "cell_type": "markdown",
   "metadata": {},
   "source": [
    "## Dictionaries"
   ]
  },
  {
   "cell_type": "markdown",
   "metadata": {},
   "source": [
    "* A __dictionary__ is another way to organize a collection of items.\n",
    "\n",
    "* A dictionary maps __keys__ to __values__.\n",
    "    - Just like a real-world dictionary maps _words_ to _definitions_.\n",
    "    \n",
    "* We can create a dictionary by starting with an empty dictionary and adding key-value pairs.\n",
    "\n",
    "* You can also print dictionaries just like any other variable."
   ]
  },
  {
   "cell_type": "code",
   "execution_count": null,
   "metadata": {
    "collapsed": false
   },
   "outputs": [],
   "source": [
    "# Create empty dictionary\n",
    "mid = {}\n",
    "\n",
    "# Add key-value pairs\n",
    "mid[\"First Name\"] = \"Nelson\"\n",
    "mid[\"Last Name\"] = \"Uhan\"\n",
    "mid[\"Company\"] = 0\n",
    "\n",
    "# Print the dictionary\n",
    "print(\"{0}\".format(mid))"
   ]
  },
  {
   "cell_type": "markdown",
   "metadata": {},
   "source": [
    "* We can use a key to look up the corresponding value as follows:"
   ]
  },
  {
   "cell_type": "code",
   "execution_count": null,
   "metadata": {
    "collapsed": false
   },
   "outputs": [],
   "source": [
    "# Print the last name of this mid\n",
    "print(\"The last name of this mid is {0}.\".format(mid[\"Last Name\"]))"
   ]
  },
  {
   "cell_type": "markdown",
   "metadata": {},
   "source": [
    "## Loops and nesting"
   ]
  },
  {
   "cell_type": "markdown",
   "metadata": {},
   "source": [
    "* We can iterate through lists using the **`for`** statement."
   ]
  },
  {
   "cell_type": "code",
   "execution_count": null,
   "metadata": {
    "collapsed": false
   },
   "outputs": [],
   "source": [
    "# Define a list containing the months of the year\n",
    "months_of_the_year = [\"Jan\", \"Feb\", \"Mar\", \"Apr\", \"May\", \"Jun\", \"Jul\", \"Aug\", \"Sep\", \"Nov\", \"Dec\"]\n",
    "\n",
    "# Print the months of the year, one by one\n",
    "for month in months_of_the_year:\n",
    "    print(month)"
   ]
  },
  {
   "cell_type": "markdown",
   "metadata": {},
   "source": [
    "* Python defines blocks of code using a colon (\":\") followed by **indentation**.\n",
    "\n",
    "* The above code is NOT the same as\n",
    "```python\n",
    "for month in months_of_the_year:\n",
    "print(month)\n",
    "```\n",
    "\n",
    "* Always use the **Tab** key to indent &ndash; this will keep your indentation consistent."
   ]
  },
  {
   "cell_type": "markdown",
   "metadata": {},
   "source": [
    "* Often we will want to write a for loop over consecutive integers. We can do this using the `range()` function.\n",
    "\n",
    "* `range(n)` is equivalent to `[0, 1, ..., n - 1]`\n",
    "\n",
    "* `range(start, stop)` is equivalent to `[start, start + 1, ..., stop - 1]`"
   ]
  },
  {
   "cell_type": "code",
   "execution_count": null,
   "metadata": {
    "collapsed": false
   },
   "outputs": [],
   "source": [
    "# First 10 integers, starting at 0\n",
    "for i in range(10):\n",
    "    print(i)"
   ]
  },
  {
   "cell_type": "code",
   "execution_count": null,
   "metadata": {
    "collapsed": false
   },
   "outputs": [],
   "source": [
    "# Integers between 3 and 8 inclusive\n",
    "for i in range(3, 9):\n",
    "    print(i)"
   ]
  },
  {
   "cell_type": "markdown",
   "metadata": {},
   "source": [
    "**Example.** Write code to create a list of the first 10 cubic numbers, starting with $0^3$. Print the list.\n",
    "\n",
    "*Hint*. Start by creating an empty list:\n",
    "\n",
    "```python\n",
    "cubics = []\n",
    "```\n",
    "\n",
    "Then add to this list using a `for` loop."
   ]
  },
  {
   "cell_type": "code",
   "execution_count": null,
   "metadata": {
    "collapsed": false
   },
   "outputs": [],
   "source": [
    "cubics = []\n",
    "for i in range(10):\n",
    "    cubics.append(i**3)\n",
    "\n",
    "print(cubics)"
   ]
  },
  {
   "cell_type": "markdown",
   "metadata": {},
   "source": [
    "## If this, then that"
   ]
  },
  {
   "cell_type": "markdown",
   "metadata": {},
   "source": [
    "* The **`==`** operator performs **equality testing**: \n",
    "    - If the two items on either side of `==` are equal, then it returns `True`.\n",
    "    - Otherwise, it returns `False`."
   ]
  },
  {
   "cell_type": "code",
   "execution_count": null,
   "metadata": {
    "collapsed": false
   },
   "outputs": [],
   "source": [
    "# Let's define today to be Tuesday\n",
    "today = \"Tuesday\""
   ]
  },
  {
   "cell_type": "code",
   "execution_count": null,
   "metadata": {
    "collapsed": false
   },
   "outputs": [],
   "source": [
    "# Is today Thursday?\n",
    "today == \"Tuesday\""
   ]
  },
  {
   "cell_type": "code",
   "execution_count": null,
   "metadata": {
    "collapsed": false
   },
   "outputs": [],
   "source": [
    "# Is today Friday?\n",
    "today == \"Friday\""
   ]
  },
  {
   "cell_type": "markdown",
   "metadata": {},
   "source": [
    "* Conditional statements are written using the same block/indentation structure as `for` statements, using the keywords **`if`**, **`elif`**, and **`else`**."
   ]
  },
  {
   "cell_type": "code",
   "execution_count": null,
   "metadata": {
    "collapsed": false
   },
   "outputs": [],
   "source": [
    "# What should I do?\n",
    "if today == \"Friday\":\n",
    "    print(\"Party.\")\n",
    "elif today == \"Sunday\":\n",
    "    print(\"Rest.\")\n",
    "else:\n",
    "    print(\"Study.\")"
   ]
  },
  {
   "cell_type": "markdown",
   "metadata": {},
   "source": [
    "* Other types of comparisons:\n",
    "\n",
    "| Comparison | Meaning |\n",
    "|------------|---------|\n",
    "| `==`         | equal  |\n",
    "| `!=`         | not equal |\n",
    "| `<`          | less than  |\n",
    "| `>`          | greater than |\n",
    "| `<=`         | less than or equal |\n",
    "| `>=`         | greater than or equal |"
   ]
  },
  {
   "cell_type": "markdown",
   "metadata": {},
   "source": [
    "**Example.** Using `if`-`elif`-`else` statements, write code to only print the first 10 cubic numbers ($0^3$, $1^3$, $2^3$, $3^3$, ...) that are greater than 100. Your output should look something like this:\n",
    "\n",
    "```\n",
    "    The cube of 5 is 125.\n",
    "    The cube of 6 is 216.\n",
    "```\n",
    "\n",
    "and so on."
   ]
  },
  {
   "cell_type": "code",
   "execution_count": null,
   "metadata": {
    "collapsed": false
   },
   "outputs": [],
   "source": [
    "for i in range(10):\n",
    "    if i ** 3 > 100:\n",
    "        print(\"The cube of {0} is {1}.\".format(i, i**3))"
   ]
  },
  {
   "cell_type": "markdown",
   "metadata": {},
   "source": [
    "## Advanced Jupyter features that might be useful"
   ]
  },
  {
   "cell_type": "markdown",
   "metadata": {},
   "source": [
    "### Keyboard shortcuts"
   ]
  },
  {
   "cell_type": "markdown",
   "metadata": {},
   "source": [
    "* There are keyboard shortcuts, but they're a little tricky to use. Take a look at **Help &#8594; Keyboard Shortcuts**.\n",
    "\n",
    "* If you click in the text box of a code cell or double-click in a Markdown cell, then it is outlined by a green box. This is called **Edit Mode**.\n",
    "\n",
    "* If you click on the <span class=\"rred\">side</span> of a code cell, then it is outlined by a blue box. This is called **Command Mode**.\n",
    "\n",
    "* Here are two really useful keyboard shortcuts:\n",
    "    * **Indenting multiple lines.** In Edit Mode, select the lines you want to indent, and then press <kbd>Tab</kbd>. If you want to de-indent them (i.e. indent them to the left), press <kbd>Shift-Tab</kbd>.\n",
    "    * **Line numbers.** In Command Mode, press <kbd>L</kbd> to toggle line numbers."
   ]
  },
  {
   "cell_type": "code",
   "execution_count": null,
   "metadata": {
    "collapsed": false
   },
   "outputs": [],
   "source": [
    "# Indent and unindent me!\n",
    "for name in [\"Amy\", \"Bob\", \"Carol\"]:\n",
    "    print(\"The name of this person is {0}.\".format(name))\n",
    "\n",
    "spanish = {}\n",
    "spanish[\"home\"] = \"casa\"\n",
    "spanish[\"navy\"] = \"armada\"\n",
    "\n",
    "for word in [\"home\", \"navy\"]:\n",
    "    print(\"The spanish word for {0} is {1}.\".format(word, spanish[word]))"
   ]
  },
  {
   "cell_type": "markdown",
   "metadata": {},
   "source": [
    "### Running multiple cells"
   ]
  },
  {
   "cell_type": "markdown",
   "metadata": {},
   "source": [
    "* You can run all the cells in a notebook by selecting **Cell &#8594; Run All**.\n",
    "\n",
    "* You can run all the cells above the current cell by selecting **Cell &#8594; Run All Above**.\n",
    "\n",
    "* You can run all the cells below the current cell by selecting **Cell &#8594; Run All Below**."
   ]
  },
  {
   "cell_type": "markdown",
   "metadata": {},
   "source": [
    "### Clearing the output of code cells"
   ]
  },
  {
   "cell_type": "markdown",
   "metadata": {},
   "source": [
    "* You can clear the output of a code cell by selecting **Cell &#8594; Current Output &#8594; Clear**. \n",
    "\n",
    "* You can clear the output of all code cells by selecting **Cell &#8594; All Output &#8594; Clear**."
   ]
  },
  {
   "cell_type": "markdown",
   "metadata": {},
   "source": [
    "## Saving your notebook and finishing up"
   ]
  },
  {
   "cell_type": "markdown",
   "metadata": {},
   "source": [
    "* Jupyter autosaves your notebook every few minutes.\n",
    "\n",
    "* To manually save, click the <i class=\"fa fa-floppy-o\"></i> icon, or select **File &#8594; Save and Checkpoint**.\n",
    "\n",
    "* To close the notebook, select **File &#8594; Close and Halt**.\n",
    "    - This will close the tab/window **and the associated Python kernel**.\n",
    "    - Just closing the tab/window will leave the Python kernel running.\n",
    "    - You can get a list of running kernels in the **Running** tab of the Jupyter dashboard."
   ]
  }
 ],
 "metadata": {
  "kernelspec": {
   "display_name": "Python 3",
   "language": "python",
   "name": "python3"
  },
  "language_info": {
   "codemirror_mode": {
    "name": "ipython",
    "version": 3
   },
   "file_extension": ".py",
   "mimetype": "text/x-python",
   "name": "python",
   "nbconvert_exporter": "python",
   "pygments_lexer": "ipython3",
   "version": "3.5.2"
  },
  "latex_metadata": {
   "lesson": "4",
   "lessontitle": "A crash course in Jupyter and Python",
   "shortlessontitle": "A crash course in Jupyter and Python"
  }
 },
 "nbformat": 4,
 "nbformat_minor": 0
}
